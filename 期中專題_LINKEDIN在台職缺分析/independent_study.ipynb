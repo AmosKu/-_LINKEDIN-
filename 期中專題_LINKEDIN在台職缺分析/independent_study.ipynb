{
 "cells": [
  {
   "cell_type": "code",
   "execution_count": null,
   "id": "a846f75b",
   "metadata": {
    "scrolled": true
   },
   "outputs": [],
   "source": [
    "!pip install pyautogui"
   ]
  },
  {
   "cell_type": "code",
   "execution_count": 3,
   "id": "429c5af0",
   "metadata": {
    "collapsed": true
   },
   "outputs": [
    {
     "name": "stdout",
     "output_type": "stream",
     "text": [
      "Collecting folium\n",
      "  Downloading folium-0.14.0-py2.py3-none-any.whl (102 kB)\n",
      "     ---------------------------------------- 0.0/102.3 kB ? eta -:--:--\n",
      "     ----------- --------------------------- 30.7/102.3 kB 1.3 MB/s eta 0:00:01\n",
      "     ------------------------- ----------- 71.7/102.3 kB 787.7 kB/s eta 0:00:01\n",
      "     ------------------------------------ 102.3/102.3 kB 979.2 kB/s eta 0:00:00\n",
      "Requirement already satisfied: jinja2>=2.9 in c:\\anaconda3\\envs\\web_scraping\\lib\\site-packages (from folium) (3.1.2)\n",
      "Collecting branca>=0.6.0\n",
      "  Downloading branca-0.6.0-py3-none-any.whl (24 kB)\n",
      "Requirement already satisfied: requests in c:\\anaconda3\\envs\\web_scraping\\lib\\site-packages (from folium) (2.28.2)\n",
      "Requirement already satisfied: numpy in c:\\anaconda3\\envs\\web_scraping\\lib\\site-packages (from folium) (1.24.2)\n",
      "Requirement already satisfied: MarkupSafe>=2.0 in c:\\anaconda3\\envs\\web_scraping\\lib\\site-packages (from jinja2>=2.9->folium) (2.1.2)\n",
      "Requirement already satisfied: urllib3<1.27,>=1.21.1 in c:\\anaconda3\\envs\\web_scraping\\lib\\site-packages (from requests->folium) (1.26.15)\n",
      "Requirement already satisfied: charset-normalizer<4,>=2 in c:\\anaconda3\\envs\\web_scraping\\lib\\site-packages (from requests->folium) (3.1.0)\n",
      "Requirement already satisfied: idna<4,>=2.5 in c:\\anaconda3\\envs\\web_scraping\\lib\\site-packages (from requests->folium) (3.4)\n",
      "Requirement already satisfied: certifi>=2017.4.17 in c:\\anaconda3\\envs\\web_scraping\\lib\\site-packages (from requests->folium) (2022.12.7)\n",
      "Installing collected packages: branca, folium\n",
      "Successfully installed branca-0.6.0 folium-0.14.0\n"
     ]
    }
   ],
   "source": [
    "!pip install folium"
   ]
  },
  {
   "cell_type": "code",
   "execution_count": 1,
   "id": "1609ce71",
   "metadata": {},
   "outputs": [],
   "source": [
    "from selenium import webdriver\n",
    "import requests as req\n",
    "import time\n",
    "import numpy as np\n",
    "import random\n",
    "from selenium.webdriver.common.action_chains import ActionChains\n",
    "import pandas as pd\n",
    "from selenium.webdriver.common.by import By\n",
    "from selenium.webdriver.support.ui import WebDriverWait\n",
    "from selenium.webdriver.support import expected_conditions as EC\n",
    "\n"
   ]
  },
  {
   "cell_type": "code",
   "execution_count": 4,
   "id": "d5c2e79d",
   "metadata": {},
   "outputs": [],
   "source": [
    "# 開啟瀏覽器並最大化視窗\n",
    "driver = webdriver.Chrome()\n",
    "location = \"Taiwan\"\n",
    "url = \"https://www.linkedin.com/jobs/search/?location=\"+location\n",
    "driver.get(url)\n",
    "driver.maximize_window()\n",
    "time.sleep(2)\n",
    "\n",
    "\n",
    "\n",
    "\n"
   ]
  },
  {
   "cell_type": "code",
   "execution_count": 5,
   "id": "58380dba",
   "metadata": {},
   "outputs": [],
   "source": [
    "jobs_list = []\n",
    "lost_list = []\n",
    "\n",
    "\n",
    "i = 1\n",
    "while i <= 1000:\n",
    "\n",
    "    try:\n",
    "        # 點選左側職缺窗格\n",
    "        ButtonElement = driver.find_element(By.XPATH, f'//*[@id=\"main-content\"]/section/ul/li[{i}]/div/a')\n",
    "        ActionClick = ActionChains(driver).click(ButtonElement)\n",
    "        ActionClick.perform()\n",
    "        \n",
    "        # 移動到右側空白處點一下\n",
    "        MoveElement = driver.find_element(By.CSS_SELECTOR, \"body > div.base-serp-page > div > section\") \n",
    "        ActionChains(driver).click(MoveElement).perform()\n",
    "        \n",
    "        time.sleep(random.uniform(2, 5))\n",
    "        \n",
    "        # 要抓取元素的位置\n",
    "        job_title_path = \"/html/body/div[1]/div/section/div[2]/section/div/div[1]/div/a/h2\"\n",
    "        company_path = \"/html/body/div[1]/div/section/div[2]/section/div/div[1]/div/h4/div[1]/span[1]/a\"\n",
    "        work_area_path = \"/html/body/div[1]/div/section/div[2]/section/div/div[1]/div/h4/div[1]/span[2]\"\n",
    "        job_level_path = \"/html/body/div[1]/div/section/div[2]/div/section[1]/div/ul/li[1]/span\"\n",
    "        job_type_path = \"/html/body/div[1]/div/section/div[2]/div/section[1]/div/ul/li[2]/span\"\n",
    "        job_class_path = \"/html/body/div[1]/div/section/div[2]/div/section[1]/div/ul/li[3]/span\"\n",
    "        job_industry_path = \"/html/body/div[1]/div/section/div[2]/div/section[1]/div/ul/li[4]/span\"\n",
    "        \n",
    "        # 等待元素出現\n",
    "        wait = Wait(driver, 20)\n",
    "        wait.for_element((By.XPATH, job_title_path))\n",
    "        wait.for_element((By.XPATH, company_path))\n",
    "        wait.for_element((By.XPATH, work_area_path))\n",
    "        wait.for_element((By.XPATH, job_level_path))\n",
    "        wait.for_element((By.XPATH, job_type_path))\n",
    "        wait.for_element((By.XPATH, job_class_path))\n",
    "        wait.for_element((By.XPATH, job_industry_path))\n",
    "        \n",
    "        # 元素GET\n",
    "        job_title = driver.find_element(By.XPATH, job_title_path)\n",
    "        company = driver.find_element(By.XPATH, company_path)\n",
    "        work_area = driver.find_element(By.XPATH, work_area_path)\n",
    "        job_level = driver.find_element(By.XPATH, job_level_path)\n",
    "        job_type = driver.find_element(By.XPATH, job_type_path)\n",
    "        job_class = driver.find_element(By.XPATH, job_class_path)\n",
    "        job_industry = driver.find_element(By.XPATH, job_industry_path)\n",
    "    \n",
    "        # 元素變清單\n",
    "        job = {\n",
    "            'Job Title': job_title.text,\n",
    "            'Company': company.text,\n",
    "            'Work Area': work_area.text,\n",
    "            'Job Level': job_level.text,\n",
    "            'Job Type': job_type.text,\n",
    "            'Job Class': job_class.text,\n",
    "            'Job Industry': job_industry.text\n",
    "        }\n",
    "        jobs_list.append(job)\n",
    "        \n",
    "        i += 1\n",
    "        \n",
    "        # 出現<更多職缺>按鈕的時候按一下\n",
    "        if i >= 175 & i % 25 == 0:\n",
    "            show_more_button = driver.find_element(By.XPATH, '//*[@id=\"main-content\"]/section/button')\n",
    "            show_more_button.click()\n",
    "            continue\n",
    "        if i == 1000:\n",
    "            break\n",
    "    \n",
    "    except:\n",
    "        lost_list.append(i)\n",
    "        i += 1\n",
    "        \n",
    "\n",
    "# 印出沒抓到的\n",
    "print(lost_list)\n",
    "\n",
    "# 清單轉ECXEL檔\n",
    "df = pd.DataFrame(jobs_list)\n",
    "df.to_excel('jobs_list.xlsx', index=False)   \n",
    "\n",
    "       \n",
    "        "
   ]
  },
  {
   "cell_type": "code",
   "execution_count": 6,
   "id": "1179b98d",
   "metadata": {},
   "outputs": [
    {
     "name": "stdout",
     "output_type": "stream",
     "text": [
      "[16, 25, 26, 27, 28, 29, 30]\n"
     ]
    }
   ],
   "source": [
    "print(lost_list)"
   ]
  },
  {
   "cell_type": "code",
   "execution_count": 13,
   "id": "9116b544",
   "metadata": {},
   "outputs": [],
   "source": [
    "df = pd.DataFrame(jobs_list)\n",
    "df.to_excel('jobs_list.xlsx', index=False)"
   ]
  },
  {
   "cell_type": "code",
   "execution_count": 7,
   "id": "7e0f30fd",
   "metadata": {},
   "outputs": [],
   "source": [
    "df = pd.read_excel('jobs_list.xlsx', sheet_name='Sheet1')\n",
    "df.to_json('jobs_list.json', orient='records')\n"
   ]
  }
 ],
 "metadata": {
  "kernelspec": {
   "display_name": "Python 3 (ipykernel)",
   "language": "python",
   "name": "python3"
  },
  "language_info": {
   "codemirror_mode": {
    "name": "ipython",
    "version": 3
   },
   "file_extension": ".py",
   "mimetype": "text/x-python",
   "name": "python",
   "nbconvert_exporter": "python",
   "pygments_lexer": "ipython3",
   "version": "3.10.10"
  }
 },
 "nbformat": 4,
 "nbformat_minor": 5
}
